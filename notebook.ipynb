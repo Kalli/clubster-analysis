{
 "cells": [
  {
   "cell_type": "markdown",
   "metadata": {
    "pycharm": {
     "name": "#%% md\n"
    }
   },
   "source": [
    "Load data from csv files"
   ]
  },
  {
   "cell_type": "code",
   "execution_count": null,
   "metadata": {
    "pycharm": {
     "name": "#%%\n"
    }
   },
   "outputs": [],
   "source": [
    "import pandas as pd\n",
    "from IPython.display import display, HTML\n",
    "pd.options.display.max_rows = 200\n",
    "pd.options.display.float_format = '{:,.2f}'.format\n",
    "\n",
    "\n",
    "regions = pd.read_csv('./data/top-regions.csv')\n",
    "clubs = pd.read_csv('./data/top-clubs.csv', index_col='id')\n",
    "dates = pd.read_csv(\n",
    "\t'./data/top-clubs-dates.csv',\n",
    "\tindex_col='id',\n",
    "\tparse_dates=['date']\n",
    ")"
   ]
  },
  {
   "cell_type": "markdown",
   "metadata": {},
   "source": [
    "## Show the top regions from [Resident Advisors event page](https://www.residentadvisor.net/events)"
   ]
  },
  {
   "cell_type": "code",
   "execution_count": null,
   "metadata": {
    "pycharm": {
     "name": "#%%\n"
    }
   },
   "outputs": [],
   "source": [
    "regions.style.hide_columns(['rank', 'region'])"
   ]
  },
  {
   "cell_type": "markdown",
   "metadata": {
    "pycharm": {
     "name": "#%% md\n"
    }
   },
   "source": [
    "## Group regions in the top 20 by country"
   ]
  },
  {
   "cell_type": "code",
   "execution_count": null,
   "metadata": {
    "pycharm": {
     "name": "#%%\n"
    }
   },
   "outputs": [],
   "source": [
    "by_country = regions[['country', 'name']].groupby('country')\n",
    "by_country.agg(['count']).sort_values(by=('name', 'count'), ascending=False)"
   ]
  },
  {
   "cell_type": "markdown",
   "metadata": {},
   "source": [
    "## Join top clubs with regions and show top clubs per region\n"
   ]
  },
  {
   "cell_type": "code",
   "execution_count": null,
   "metadata": {
    "pycharm": {
     "name": "#%%\n"
    }
   },
   "outputs": [],
   "source": [
    "\n",
    "regions_top_clubs = regions.join(\n",
    "    clubs.reset_index().set_index('region'),\n",
    "    on='region',\n",
    "    lsuffix='_region',\n",
    "    rsuffix='_club'\n",
    ")\n",
    "\n",
    "clubs_by_region = regions_top_clubs.pivot_table(\n",
    "\tvalues=['rank_region', 'rank_club'],\n",
    "\tindex=['name_region', 'name_club']\n",
    ").sort_values(by=['rank_region', 'rank_club'])\n",
    "clubs_by_region.style.hide_columns(['rank_club', 'rank_region'])"
   ]
  },
  {
   "cell_type": "markdown",
   "metadata": {},
   "source": [
    "Join top clubs and regions to club dates. Summarize results\n"
   ]
  },
  {
   "cell_type": "code",
   "execution_count": null,
   "metadata": {
    "pycharm": {
     "name": "#%%\n"
    }
   },
   "outputs": [],
   "source": [
    "regions_top_club_dates = regions_top_clubs.join(\n",
    "    dates.reset_index().set_index('club_id'),\n",
    "    on = 'id',\n",
    "    rsuffix = '_date'\n",
    ")"
   ]
  },
  {
   "cell_type": "markdown",
   "metadata": {},
   "source": [
    "## Regions by number of events and total people attending"
   ]
  },
  {
   "cell_type": "code",
   "execution_count": null,
   "metadata": {
    "pycharm": {
     "name": "#%%\n"
    }
   },
   "outputs": [],
   "source": [
    "regions_top_club_dates.groupby('name_region').agg(\n",
    "    {'id': 'count', 'attending': ['sum', 'mean']}\n",
    ").sort_values(by=('id', 'count'), ascending=False).rename(columns={'id': 'Number of Events'})"
   ]
  },
  {
   "cell_type": "markdown",
   "metadata": {},
   "source": [
    "## Number of events per year per region"
   ]
  },
  {
   "cell_type": "code",
   "execution_count": null,
   "metadata": {
    "pycharm": {
     "name": "#%%\n"
    }
   },
   "outputs": [],
   "source": [
    "regions_top_club_dates.groupby(\n",
    "\t[regions_top_club_dates['date'].map(lambda x: x.year)]\n",
    ").agg(\n",
    "    {'id': 'count', 'attending': ['sum', 'mean']}\n",
    ").sort_values(by=('id', 'count'), ascending=False).rename(columns={'id': 'Number of Events'})"
   ]
  },
  {
   "cell_type": "markdown",
   "metadata": {},
   "source": [
    "## Average yearly club attendance"
   ]
  },
  {
   "cell_type": "code",
   "execution_count": null,
   "metadata": {
    "pycharm": {
     "name": "#%%\n"
    }
   },
   "outputs": [],
   "source": [
    "regions_top_club_dates.groupby(\n",
    "\t['name_club']\n",
    ").agg({'id': 'count', 'attending': 'mean'}\n",
    ").sort_values(by='attending', ascending=False).rename(columns={'id': 'Number of Events'}).head(n=20)"
   ]
  }
 ],
 "metadata": {
  "kernelspec": {
   "display_name": "Python 3",
   "language": "python",
   "name": "python3"
  },
  "language_info": {
   "codemirror_mode": {
    "name": "ipython",
    "version": 3
   },
   "file_extension": ".py",
   "mimetype": "text/x-python",
   "name": "python",
   "nbconvert_exporter": "python",
   "pygments_lexer": "ipython3",
   "version": "3.7.3"
  }
 },
 "nbformat": 4,
 "nbformat_minor": 1
}